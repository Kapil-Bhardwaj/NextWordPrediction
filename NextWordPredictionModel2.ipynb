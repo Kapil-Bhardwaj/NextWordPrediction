{
  "nbformat": 4,
  "nbformat_minor": 0,
  "metadata": {
    "colab": {
      "provenance": [],
      "gpuType": "T4",
      "authorship_tag": "ABX9TyPyi+PNP5B2tXJXxGPAoZJX",
      "include_colab_link": true
    },
    "kernelspec": {
      "name": "python3",
      "display_name": "Python 3"
    },
    "language_info": {
      "name": "python"
    },
    "accelerator": "GPU"
  },
  "cells": [
    {
      "cell_type": "markdown",
      "metadata": {
        "id": "view-in-github",
        "colab_type": "text"
      },
      "source": [
        "<a href=\"https://colab.research.google.com/github/Kapil-Bhardwaj/NextWordPrediction/blob/main/NextWordPredictionModel2.ipynb\" target=\"_parent\"><img src=\"https://colab.research.google.com/assets/colab-badge.svg\" alt=\"Open In Colab\"/></a>"
      ]
    },
    {
      "cell_type": "code",
      "source": [
        "from google.colab import drive\n",
        "drive.mount('/content/drive')"
      ],
      "metadata": {
        "id": "-Dx3JFRXji0D",
        "colab": {
          "base_uri": "https://localhost:8080/"
        },
        "outputId": "06d3ea2c-dbe2-468d-ae84-ec36689d8a5c"
      },
      "execution_count": null,
      "outputs": [
        {
          "output_type": "stream",
          "name": "stdout",
          "text": [
            "Mounted at /content/drive\n"
          ]
        }
      ]
    },
    {
      "cell_type": "code",
      "source": [
        "cd drive/MyDrive/Colab Notebooks/Model2"
      ],
      "metadata": {
        "id": "W7uTMPJJjmXl",
        "colab": {
          "base_uri": "https://localhost:8080/"
        },
        "outputId": "460d7495-c10c-4cc9-8e13-9a349a2855bf"
      },
      "execution_count": null,
      "outputs": [
        {
          "output_type": "stream",
          "name": "stdout",
          "text": [
            "/content/drive/MyDrive/Colab Notebooks/Model2\n"
          ]
        }
      ]
    },
    {
      "cell_type": "code",
      "source": [
        "!nvidia-smi"
      ],
      "metadata": {
        "id": "kous4HTeRGvk",
        "colab": {
          "base_uri": "https://localhost:8080/"
        },
        "outputId": "5b0e6a3c-785e-4acd-b0fc-a154e6353af5"
      },
      "execution_count": null,
      "outputs": [
        {
          "output_type": "stream",
          "name": "stdout",
          "text": [
            "Sat Jul 22 16:41:34 2023       \n",
            "+-----------------------------------------------------------------------------+\n",
            "| NVIDIA-SMI 525.105.17   Driver Version: 525.105.17   CUDA Version: 12.0     |\n",
            "|-------------------------------+----------------------+----------------------+\n",
            "| GPU  Name        Persistence-M| Bus-Id        Disp.A | Volatile Uncorr. ECC |\n",
            "| Fan  Temp  Perf  Pwr:Usage/Cap|         Memory-Usage | GPU-Util  Compute M. |\n",
            "|                               |                      |               MIG M. |\n",
            "|===============================+======================+======================|\n",
            "|   0  Tesla T4            Off  | 00000000:00:04.0 Off |                    0 |\n",
            "| N/A   43C    P8     9W /  70W |      0MiB / 15360MiB |      0%      Default |\n",
            "|                               |                      |                  N/A |\n",
            "+-------------------------------+----------------------+----------------------+\n",
            "                                                                               \n",
            "+-----------------------------------------------------------------------------+\n",
            "| Processes:                                                                  |\n",
            "|  GPU   GI   CI        PID   Type   Process name                  GPU Memory |\n",
            "|        ID   ID                                                   Usage      |\n",
            "|=============================================================================|\n",
            "|  No running processes found                                                 |\n",
            "+-----------------------------------------------------------------------------+\n"
          ]
        }
      ]
    },
    {
      "cell_type": "markdown",
      "source": [
        "# **1. Import the required librariest**"
      ],
      "metadata": {
        "id": "CaEqpKLxpdDm"
      }
    },
    {
      "cell_type": "code",
      "execution_count": null,
      "metadata": {
        "id": "Q4ow9sw0i0ZI"
      },
      "outputs": [],
      "source": [
        "# We use TensorFlow with Keras for our model building.\n",
        "# We can import the LSTM model from Keras and use it.\n",
        "# For different NLP tasks, we can use the NLTK library.\n",
        "\n",
        "import numpy as np\n",
        "\n",
        "import heapq\n",
        "\n",
        "import matplotlib.pyplot as plt\n",
        "\n",
        "from nltk.tokenize import RegexpTokenizer\n",
        "\n",
        "from keras.models import Sequential, load_model\n",
        "\n",
        "from keras.layers.core import Dense, Activation\n",
        "\n",
        "from keras.layers import LSTM\n",
        "\n",
        "import pickle\n",
        "\n",
        "from keras.optimizers import RMSprop"
      ]
    },
    {
      "cell_type": "markdown",
      "source": [
        "# **2. Read the dataset:**\n"
      ],
      "metadata": {
        "id": "6Svt7D7dppTs"
      }
    },
    {
      "cell_type": "code",
      "source": [
        "path = 'data.txt'\n",
        "text = open(path).read().lower()\n",
        "print('length of the corpus is: :', len(text))"
      ],
      "metadata": {
        "colab": {
          "base_uri": "https://localhost:8080/"
        },
        "id": "QFqKubWepwob",
        "outputId": "bdea0c3b-dae3-4e69-9d76-80832b3694ae"
      },
      "execution_count": null,
      "outputs": [
        {
          "output_type": "stream",
          "name": "stdout",
          "text": [
            "length of the corpus is: : 581888\n"
          ]
        }
      ]
    },
    {
      "cell_type": "code",
      "source": [],
      "metadata": {
        "id": "UGj5Evdkqbwd"
      },
      "execution_count": null,
      "outputs": []
    },
    {
      "cell_type": "markdown",
      "source": [
        "# 3.  Using tokenizers:"
      ],
      "metadata": {
        "id": "nOoFsAESqvTm"
      }
    },
    {
      "cell_type": "code",
      "source": [
        "tokenizer = RegexpTokenizer(r'\\w+')\n",
        "words = tokenizer.tokenize(text)"
      ],
      "metadata": {
        "id": "82P4-Gy8qw3l"
      },
      "execution_count": null,
      "outputs": []
    },
    {
      "cell_type": "code",
      "source": [
        "## Getting all unique words\n",
        "unique_words = np.unique(words)\n",
        "unique_word_index = dict((c, i) for i, c in enumerate(unique_words))\n",
        "len(unique_word_index)"
      ],
      "metadata": {
        "id": "EBoGWEzbqyjU",
        "colab": {
          "base_uri": "https://localhost:8080/"
        },
        "outputId": "3148c66e-cb49-4814-f554-b57f4a4ed481"
      },
      "execution_count": null,
      "outputs": [
        {
          "output_type": "execute_result",
          "data": {
            "text/plain": [
              "8201"
            ]
          },
          "metadata": {},
          "execution_count": 6
        }
      ]
    },
    {
      "cell_type": "markdown",
      "source": [
        "**Feature Engineering:**"
      ],
      "metadata": {
        "id": "lEMTdHvdq7ia"
      }
    },
    {
      "cell_type": "code",
      "source": [
        "LENGTH_WORD = 5\n",
        "next_words = []\n",
        "prev_words = []\n",
        "for j in range(len(words) - LENGTH_WORD):\n",
        "     prev_words.append(words[j:j + LENGTH_WORD])\n",
        "     next_words.append(words[j + LENGTH_WORD])\n",
        "print(prev_words[0])\n",
        "print(next_words[0])"
      ],
      "metadata": {
        "colab": {
          "base_uri": "https://localhost:8080/"
        },
        "id": "EtTY32jsrAEA",
        "outputId": "b6d124f1-c5a3-408a-870b-dfe1abbae518"
      },
      "execution_count": null,
      "outputs": [
        {
          "output_type": "stream",
          "name": "stdout",
          "text": [
            "['project', 'gutenberg', 's', 'the', 'adventures']\n",
            "of\n"
          ]
        }
      ]
    },
    {
      "cell_type": "code",
      "source": [
        "# Storing Featurs and labels\n",
        "X = np.zeros((len(prev_words), LENGTH_WORD, len(unique_words)), dtype=bool)\n",
        "Y = np.zeros((len(next_words), len(unique_words)), dtype=bool)\n",
        "for i, each_words in enumerate(prev_words):\n",
        "   for j, each_word in enumerate(each_words):\n",
        "        X[i, j, unique_word_index[each_word]] = 1\n",
        "   Y[i, unique_word_index[next_words[i]]] = 1"
      ],
      "metadata": {
        "id": "ptTjSsutrCeo"
      },
      "execution_count": null,
      "outputs": []
    },
    {
      "cell_type": "markdown",
      "source": [
        "#  Building our model\n",
        "We can see that we have built an LSTM model and used a softmax activation at the end to get few specific words predicted by the model."
      ],
      "metadata": {
        "id": "6leBlDLfrgDn"
      }
    },
    {
      "cell_type": "code",
      "source": [
        "model = Sequential()\n",
        "model.add(LSTM(128, input_shape=(LENGTH_WORD, len(unique_words))))\n",
        "model.add(Dense(len(unique_words)))\n",
        "model.add(Activation('softmax'))"
      ],
      "metadata": {
        "id": "K_0thAN9rplx"
      },
      "execution_count": null,
      "outputs": []
    },
    {
      "cell_type": "code",
      "source": [
        "optimizer = RMSprop(lr=0.01)\n",
        "model.compile(loss='categorical_crossentropy', optimizer=optimizer, metrics=['acc'])\n",
        "history = model.fit(X, Y, validation_split=0.05, batch_size=128, epochs=20, shuffle=True).history\n"
      ],
      "metadata": {
        "colab": {
          "base_uri": "https://localhost:8080/"
        },
        "id": "cGF7UbQ_rsNO",
        "outputId": "a9d4b0c8-8fd4-4f7e-9bf4-5b1dd1554080"
      },
      "execution_count": null,
      "outputs": [
        {
          "output_type": "stream",
          "name": "stdout",
          "text": [
            "Epoch 1/20\n",
            "811/811 [==============================] - 18s 16ms/step - loss: 5.9981 - acc: 0.1078 - val_loss: 7.1336 - val_acc: 0.1064\n",
            "Epoch 2/20\n",
            "811/811 [==============================] - 12s 15ms/step - loss: 5.7759 - acc: 0.1483 - val_loss: 7.9450 - val_acc: 0.0981\n",
            "Epoch 3/20\n",
            "811/811 [==============================] - 12s 15ms/step - loss: 5.7408 - acc: 0.1759 - val_loss: 8.0707 - val_acc: 0.1069\n",
            "Epoch 4/20\n",
            "811/811 [==============================] - 12s 14ms/step - loss: 5.4526 - acc: 0.2115 - val_loss: 8.0881 - val_acc: 0.0961\n",
            "Epoch 5/20\n",
            "811/811 [==============================] - 11s 14ms/step - loss: 5.1456 - acc: 0.2501 - val_loss: 8.5058 - val_acc: 0.0983\n",
            "Epoch 6/20\n",
            "811/811 [==============================] - 11s 14ms/step - loss: 4.8719 - acc: 0.2939 - val_loss: 8.3818 - val_acc: 0.0848\n",
            "Epoch 7/20\n",
            "811/811 [==============================] - 11s 14ms/step - loss: 4.6171 - acc: 0.3360 - val_loss: 8.5344 - val_acc: 0.0802\n",
            "Epoch 8/20\n",
            "811/811 [==============================] - 12s 14ms/step - loss: 4.4037 - acc: 0.3765 - val_loss: 8.6929 - val_acc: 0.0791\n",
            "Epoch 9/20\n",
            "811/811 [==============================] - 11s 13ms/step - loss: 4.2191 - acc: 0.4129 - val_loss: 8.9646 - val_acc: 0.0859\n",
            "Epoch 10/20\n",
            "811/811 [==============================] - 12s 15ms/step - loss: 4.0586 - acc: 0.4463 - val_loss: 9.0376 - val_acc: 0.0793\n",
            "Epoch 11/20\n",
            "811/811 [==============================] - 11s 14ms/step - loss: 3.9332 - acc: 0.4733 - val_loss: 9.3378 - val_acc: 0.0743\n",
            "Epoch 12/20\n",
            "811/811 [==============================] - 11s 14ms/step - loss: 3.8072 - acc: 0.5007 - val_loss: 9.4737 - val_acc: 0.0756\n",
            "Epoch 13/20\n",
            "811/811 [==============================] - 11s 14ms/step - loss: 3.6925 - acc: 0.5214 - val_loss: 9.4236 - val_acc: 0.0745\n",
            "Epoch 14/20\n",
            "811/811 [==============================] - 12s 15ms/step - loss: 3.5968 - acc: 0.5391 - val_loss: 9.6367 - val_acc: 0.0741\n",
            "Epoch 15/20\n",
            "811/811 [==============================] - 11s 14ms/step - loss: 3.5218 - acc: 0.5539 - val_loss: 9.7472 - val_acc: 0.0710\n",
            "Epoch 16/20\n",
            "811/811 [==============================] - 12s 14ms/step - loss: 3.4842 - acc: 0.5667 - val_loss: 9.8596 - val_acc: 0.0685\n",
            "Epoch 17/20\n",
            "811/811 [==============================] - 12s 15ms/step - loss: 3.4538 - acc: 0.5750 - val_loss: 9.7365 - val_acc: 0.0692\n",
            "Epoch 18/20\n",
            "811/811 [==============================] - 12s 15ms/step - loss: 3.4298 - acc: 0.5846 - val_loss: 9.5821 - val_acc: 0.0703\n",
            "Epoch 19/20\n",
            "811/811 [==============================] - 11s 14ms/step - loss: 3.4131 - acc: 0.5925 - val_loss: 9.7342 - val_acc: 0.0661\n",
            "Epoch 20/20\n",
            "811/811 [==============================] - 12s 14ms/step - loss: 3.3830 - acc: 0.5995 - val_loss: 9.7898 - val_acc: 0.0630\n"
          ]
        }
      ]
    },
    {
      "cell_type": "code",
      "source": [
        "model.save('next_word_model.h5')\n",
        "pickle.dump(history, open(\"history.p\", \"wb\"))\n"
      ],
      "metadata": {
        "id": "zFs25ARvr6xs"
      },
      "execution_count": null,
      "outputs": []
    },
    {
      "cell_type": "code",
      "source": [
        "model = load_model('next_word_model.h5')\n",
        "history = pickle.load(open(\"history.p\", \"rb\"))"
      ],
      "metadata": {
        "colab": {
          "base_uri": "https://localhost:8080/"
        },
        "id": "7B18ZL1odv7I",
        "outputId": "136251b3-b59b-4f3b-d247-704800e48602"
      },
      "execution_count": null,
      "outputs": [
        {
          "output_type": "stream",
          "name": "stderr",
          "text": [
            "WARNING:tensorflow:No training configuration found in the save file, so the model was *not* compiled. Compile it manually.\n"
          ]
        }
      ]
    },
    {
      "cell_type": "code",
      "source": [],
      "metadata": {
        "id": "1vpNmU4wdv9f"
      },
      "execution_count": null,
      "outputs": []
    },
    {
      "cell_type": "markdown",
      "source": [
        "# Evaluating the model:"
      ],
      "metadata": {
        "id": "CMEFOeYDsGNy"
      }
    },
    {
      "cell_type": "code",
      "source": [
        "plt.plot(history['acc'])\n",
        "plt.title('model accuracy')\n",
        "plt.ylabel('accuracy')\n",
        "plt.xlabel('epoch')\n",
        "plt.legend(['test', 'test'], loc='upper left')"
      ],
      "metadata": {
        "colab": {
          "base_uri": "https://localhost:8080/",
          "height": 490
        },
        "id": "Gz0OofF7sKv9",
        "outputId": "8dc48399-f59f-4f96-ca77-8dcfadb508c1"
      },
      "execution_count": null,
      "outputs": [
        {
          "output_type": "execute_result",
          "data": {
            "text/plain": [
              "<matplotlib.legend.Legend at 0x7c5785fa1ed0>"
            ]
          },
          "metadata": {},
          "execution_count": 12
        },
        {
          "output_type": "display_data",
          "data": {
            "text/plain": [
              "<Figure size 640x480 with 1 Axes>"
            ],
            "image/png": "[encoded data removed]"
          },
          "metadata": {}
        }
      ]
    },
    {
      "cell_type": "code",
      "source": [],
      "metadata": {
        "id": "TN-sBjU2sMhF"
      },
      "execution_count": null,
      "outputs": []
    },
    {
      "cell_type": "code",
      "source": [
        "plt.plot(history['loss'])\n",
        "plt.title('model loss')\n",
        "plt.ylabel('loss')\n",
        "plt.xlabel('epoch')\n",
        "plt.legend(['test'], loc='upper left')"
      ],
      "metadata": {
        "colab": {
          "base_uri": "https://localhost:8080/",
          "height": 490
        },
        "id": "RoL3kHK9efxR",
        "outputId": "7633009d-bf10-49d8-91dc-867e9c62420c"
      },
      "execution_count": null,
      "outputs": [
        {
          "output_type": "execute_result",
          "data": {
            "text/plain": [
              "<matplotlib.legend.Legend at 0x7c5706d32c20>"
            ]
          },
          "metadata": {},
          "execution_count": 15
        },
        {
          "output_type": "display_data",
          "data": {
            "text/plain": [
              "<Figure size 640x480 with 1 Axes>"
            ],
            "image/png": "[encoded data removed]"
          },
          "metadata": {}
        }
      ]
    },
    {
      "cell_type": "markdown",
      "source": [
        "## 10. Testing next word"
      ],
      "metadata": {
        "id": "E9ucXUmkuGfV"
      }
    },
    {
      "cell_type": "code",
      "source": [
        "def prepare_input(text, unique_word_index, LENGTH_WORD):\n",
        "    tokenizer = RegexpTokenizer(r'\\w+')\n",
        "    words = tokenizer.tokenize(text.lower())\n",
        "\n",
        "    prev_words = []\n",
        "    for j in range(len(words) - LENGTH_WORD):\n",
        "        prev_words.append(words[j:j + LENGTH_WORD])\n",
        "\n",
        "    X = np.zeros((len(prev_words), LENGTH_WORD, len(unique_word_index)), dtype=bool)\n",
        "    for i, each_words in enumerate(prev_words):\n",
        "        for j, each_word in enumerate(each_words):\n",
        "            X[i, j, unique_word_index[each_word]] = 1\n",
        "\n",
        "    return X\n"
      ],
      "metadata": {
        "id": "CNpa-v40i6_E"
      },
      "execution_count": null,
      "outputs": []
    },
    {
      "cell_type": "code",
      "source": [
        "def get_next_word_predictions(text, model, unique_word_index, LENGTH_WORD, top_n=5):\n",
        "    tokenizer = RegexpTokenizer(r'\\w+')\n",
        "    words = tokenizer.tokenize(text.lower())\n",
        "\n",
        "    prev_words = words[-LENGTH_WORD:]\n",
        "    prepared_input = np.zeros((1, LENGTH_WORD, len(unique_word_index)), dtype=bool)\n",
        "    for j, each_word in enumerate(prev_words):\n",
        "      try:\n",
        "        prepared_input[0, j, unique_word_index[each_word]] = 1\n",
        "      except Exception as e:\n",
        "        print(\"The word is not Present in dictonary\", e)\n",
        "    preds = model.predict(prepared_input, verbose=0)[0]\n",
        "    next_indices = np.argsort(preds)[-top_n:][::-1]\n",
        "\n",
        "    next_word_predictions = [list(unique_word_index.keys())[list(unique_word_index.values()).index(idx)] for idx in next_indices]\n",
        "\n",
        "    return next_word_predictions\n",
        "\n",
        "quotes = [\n",
        "    \"today I am feeling very \"\n",
        "\n",
        "]\n",
        "if(len(quotes)==0):\n",
        " print(\"Empty Input\")\n",
        "else:\n",
        "  for q in quotes:\n",
        "      seq = q[:40]  # Use the first 40 characters as the initial sequence\n",
        "      prediction_length = 5  # Number of next-word predictions\n",
        "\n",
        "      next_word_predictions = get_next_word_predictions(seq, model, unique_word_index, LENGTH_WORD, prediction_length)\n",
        "\n",
        "      print(\"Original Quote:\", q)\n",
        "\n",
        "      try:\n",
        "        print(\"Next-word Predictions:\", next_word_predictions)\n",
        "      except Exception as e:\n",
        "        print(\"An error occurred:\", e)\n",
        "\n",
        "      print()\n"
      ],
      "metadata": {
        "colab": {
          "base_uri": "https://localhost:8080/"
        },
        "id": "-aA8Sk_KnRMH",
        "outputId": "f21740f6-8e47-47f6-b952-3e16616fb8ce"
      },
      "execution_count": null,
      "outputs": [
        {
          "output_type": "stream",
          "name": "stdout",
          "text": [
            "The word is not Present in dictonary 'today'\n",
            "Original Quote: today I am feeling very \n",
            "Next-word Predictions: ['ordnance', 'produced', 'debt', 'wiser', 'servitude']\n",
            "\n"
          ]
        }
      ]
    },
    {
      "cell_type": "code",
      "source": [],
      "metadata": {
        "id": "--KC1Lk8LmFJ"
      },
      "execution_count": null,
      "outputs": []
    }
  ]
}